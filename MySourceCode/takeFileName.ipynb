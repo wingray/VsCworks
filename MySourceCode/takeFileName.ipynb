{
 "cells": [
  {
   "cell_type": "code",
   "execution_count": 1,
   "metadata": {},
   "outputs": [],
   "source": [
    "import pandas as pd\n",
    "import re"
   ]
  },
  {
   "cell_type": "code",
   "execution_count": 2,
   "metadata": {},
   "outputs": [],
   "source": [
    "def takeSampleName (df_input):\n",
    "    X_tp=[]\n",
    "    for index,str in enumerate(df_input):\n",
    "        str=re.search(r'(?<=\\\\)[^\\\\]+(?=-)',str).group()\n",
    "        #此处正则表达亦可脱离循环单独用做路径中提取文件名的代码\n",
    "        X_tp=X_tp+[str]\n",
    "    df_input=pd.DataFrame(X_tp)\n",
    "    return df_input"
   ]
  },
  {
   "cell_type": "markdown",
   "metadata": {},
   "source": [
    "利用正则和nmr取名规则提取路径中的文件名(主要修改结尾检索(?=)以匹配文件名)"
   ]
  }
 ],
 "metadata": {
  "kernelspec": {
   "display_name": "workSpace",
   "language": "python",
   "name": "python3"
  },
  "language_info": {
   "codemirror_mode": {
    "name": "ipython",
    "version": 3
   },
   "file_extension": ".py",
   "mimetype": "text/x-python",
   "name": "python",
   "nbconvert_exporter": "python",
   "pygments_lexer": "ipython3",
   "version": "3.11.9"
  }
 },
 "nbformat": 4,
 "nbformat_minor": 2
}
