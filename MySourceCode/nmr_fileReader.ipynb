{
 "cells": [
  {
   "cell_type": "code",
   "execution_count": 3,
   "metadata": {},
   "outputs": [],
   "source": [
    "import numpy as np\n",
    "import pandas as pd\n",
    "import os"
   ]
  },
  {
   "cell_type": "markdown",
   "metadata": {},
   "source": [
    "声明路径\n",
    "======\n"
   ]
  },
  {
   "cell_type": "code",
   "execution_count": 4,
   "metadata": {},
   "outputs": [
    {
     "data": {
      "text/plain": [
       "['DailyPot_20240502',\n",
       " 'DataProcessing',\n",
       " 'DataProcessing_test',\n",
       " 'DataToCheck',\n",
       " 'Guanidinium phosphate',\n",
       " 'poject_Panel',\n",
       " '新規 Microsoft Excel ワークシート.xlsx']"
      ]
     },
     "execution_count": 4,
     "metadata": {},
     "output_type": "execute_result"
    }
   ],
   "source": [
    "mainPath = r'C:\\Users\\ikeno\\Desktop\\Pojects'\n",
    "fileList = os.listdir(mainPath)\n",
    "fileList"
   ]
  },
  {
   "cell_type": "markdown",
   "metadata": {},
   "source": [
    "打开文件夹(first time)\n",
    "======"
   ]
  },
  {
   "cell_type": "code",
   "execution_count": 5,
   "metadata": {},
   "outputs": [
    {
     "name": "stdout",
     "output_type": "stream",
     "text": [
      "goto C:\\Users\\ikeno\\Desktop\\Pojects\\DataProcessing_test\n",
      "['csv_data', 'DSC_Data', 'name', 'NMR_curve', 'PCA_result', 'row_data']\n"
     ]
    }
   ],
   "source": [
    "director1 = input('Input document to open:')\n",
    "strPath = mainPath+'\\\\'+director1\n",
    "newPath = os.path.abspath(strPath)\n",
    "print('goto ' + strPath)\n",
    "try:\n",
    "    os.chdir(newPath)\n",
    "    fileList = os.listdir(newPath)\n",
    "    print(fileList)\n",
    "except FileNotFoundError:\n",
    "    print('Wrong dir!')"
   ]
  },
  {
   "cell_type": "markdown",
   "metadata": {},
   "source": [
    "打开文件夹(after first)\n",
    "======"
   ]
  },
  {
   "cell_type": "code",
   "execution_count": 12,
   "metadata": {},
   "outputs": [
    {
     "name": "stdout",
     "output_type": "stream",
     "text": [
      "now inC:\\Users\\ikeno\\Desktop\\Pojects\\DataProcessing_test\n",
      "['csv_data', 'DSC_Data', 'name', 'NMR_curve', 'PCA_result', 'row_data']\n",
      "['273K', '283K', '298k', '308K', '318K', '328K', '338k', '348K', 'CHS_T1_273K-0.dps', 'CHS_T1_283K-0.dps', 'CHS_T1_298K-0.dps', 'CHS_T1_308K-0.dps', 'CHS_T1_318K-0.dps', 'CHS_T1_328K-0.dps', 'CHS_T1_338K-0.dps', 'CHS_T1_348K-0.dps', 'No1_273K-0.dps', 'No1_283K-0.dps', 'No1_298K-0.dps', 'No1_308K-0.dps', 'No1_318K-0.dps', 'No1_328K-0.dps', 'No1_338K-0.dps', 'No1_348K-0.dps', 'No2_273K-0.dps', 'No2_283K-0.dps', 'No2_298K-0.dps', 'No2_308K-0.dps', 'No2_318K-0.dps', 'No2_328K-0.dps', 'No2_338K-0.dps', 'No2_348K-0.dps', 'No3_273K-0.dps', 'No3_283K-0.dps', 'No3_298K-0.dps', 'No3_308K-0.dps', 'No3_318K-0.dps', 'No3_328K-0.dps', 'No3_338K-0.dps', 'No3_348K-0.dps', 'S7_273K-0.dps', 'S7_283K-0.dps', 'S7_298K-0.dps', 'S7_308K-0.dps', 'S7_318K-0.dps', 'S7_328K-0.dps', 'S7_338K-0.dps', 'S7_348K-0.dps']\n"
     ]
    }
   ],
   "source": [
    "print('now in' + newPath)\n",
    "print(os.listdir(newPath))\n",
    "director2 = input('Input document to open:\\nOr input back to go back to mainPaht')\n",
    "if director2 == 'back':\n",
    "    newPath=mainPath\n",
    "    fileList = os.listdir(newPath)\n",
    "else :\n",
    "    strPath = newPath+'\\\\'+director2\n",
    "    newPath = os.path.abspath(strPath)\n",
    "\n",
    "try:\n",
    "    os.chdir(newPath)\n",
    "    fileList = os.listdir(newPath)\n",
    "    print(fileList)\n",
    "except FileNotFoundError:\n",
    "    print('Wrong dir!')"
   ]
  },
  {
   "cell_type": "markdown",
   "metadata": {},
   "source": [
    "打开文件\n",
    "======"
   ]
  }
 ],
 "metadata": {
  "kernelspec": {
   "display_name": "Python 3",
   "language": "python",
   "name": "python3"
  },
  "language_info": {
   "codemirror_mode": {
    "name": "ipython",
    "version": 3
   },
   "file_extension": ".py",
   "mimetype": "text/x-python",
   "name": "python",
   "nbconvert_exporter": "python",
   "pygments_lexer": "ipython3",
   "version": "3.12.3"
  }
 },
 "nbformat": 4,
 "nbformat_minor": 2
}
